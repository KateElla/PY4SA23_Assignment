{
 "cells": [
  {
   "cell_type": "markdown",
   "id": "b37e82b6-6b7f-4821-a996-ff916ae09be1",
   "metadata": {},
   "source": [
    "# Lab Assignment 2 - Kate Peard"
   ]
  },
  {
   "cell_type": "markdown",
   "id": "525fcbd2-5bce-4d2a-9dbe-0fcc0718ec37",
   "metadata": {},
   "source": [
    "## 200005441"
   ]
  },
  {
   "cell_type": "markdown",
   "id": "ea2f1148-7f3c-40a9-b2b7-f0b12697cbc7",
   "metadata": {},
   "source": [
    "### https://github.com/KateElla/PY4SA23_Assignment   "
   ]
  },
  {
   "cell_type": "code",
   "execution_count": 20,
   "id": "ef8049a1-f33c-40bf-8642-4dce662e3393",
   "metadata": {},
   "outputs": [
    {
     "name": "stdin",
     "output_type": "stream",
     "text": [
      "Your chosen number, 7941\n"
     ]
    },
    {
     "name": "stdout",
     "output_type": "stream",
     "text": [
      "is divisible by 3 :)\n"
     ]
    }
   ],
   "source": [
    "#Task 1\n",
    "\n",
    "num = int(input(\"Your chosen number,\")) #identifies that input is an integer\n",
    "if num%3 == 0:\n",
    "          print(\"is divisible by 3 :)\")\n",
    "else:\n",
    "          print(\"is not divisble by 3 :(\")"
   ]
  },
  {
   "cell_type": "code",
   "execution_count": 31,
   "id": "c7cc0b77-efaf-41a4-94fa-58e4a23a66e4",
   "metadata": {},
   "outputs": [
    {
     "name": "stdin",
     "output_type": "stream",
     "text": [
      " Guava\n"
     ]
    },
    {
     "name": "stdout",
     "output_type": "stream",
     "text": [
      "is not an acceptable fruit.\n"
     ]
    }
   ],
   "source": [
    "#Task 2\n",
    "fruits = [\"apple\",\"orange\",\"pear\",\"kiwi\",\"strawberry\"] #defines list of acceptable fruit\n",
    "frt = (input()) #identifies input as a string of text\n",
    "if frt == fruits:\n",
    "          print(\"is an acceptable fruit.\")\n",
    "else: \n",
    "        print(\"is not an acceptable fruit.\")"
   ]
  },
  {
   "cell_type": "code",
   "execution_count": 2,
   "id": "c8ec2bf6-731c-4f1a-8ab8-50a90370fad9",
   "metadata": {},
   "outputs": [
    {
     "name": "stdout",
     "output_type": "stream",
     "text": [
      "      Coordinate 1:\n"
     ]
    },
    {
     "name": "stdin",
     "output_type": "stream",
     "text": [
      "Latitude: 4\n",
      "Longitude: 5\n"
     ]
    },
    {
     "name": "stdout",
     "output_type": "stream",
     "text": [
      "      Coordinate 2:\n"
     ]
    },
    {
     "name": "stdin",
     "output_type": "stream",
     "text": [
      "Latitude: 6\n",
      "Longitude: 7\n"
     ]
    },
    {
     "name": "stdout",
     "output_type": "stream",
     "text": [
      "The distance between these two points is 135.70648790752847 km.\n"
     ]
    }
   ],
   "source": [
    "\n",
    "# Task 3\n",
    "\n",
    "R = 6371.0    #mean radius of Earth in km\n",
    "\n",
    "from math import sin, cos, sqrt, atan2, radians\n",
    "\n",
    "print(\"      Coordinate 1:\")\n",
    "lat1, long1 = float(input(\"Latitude:\")), float(input(\"Longitude:\"))\n",
    "\n",
    "print(\"      Coordinate 2:\")\n",
    "lat2, long2 = float(input(\"Latitude:\")), float(input(\"Longitude:\"))\n",
    "\n",
    "\n",
    "dlong = radians(long2) - radians(long1) #distance between longitude 2 and longitude 1\n",
    "dlat = radians(lat2) - radians(lat1) # distance between latitude 2 and latitude 1\n",
    "\n",
    "dlong = radians(long2) - radians(long1) #distance between longitude 2 and longitude 1\n",
    "dlat = radians(lat2) - radians(lat1) # distance between latitude 2 and latitude 1\n",
    "\n",
    "\n",
    "a = sin(dlat / 2)**2 + cos(lat1) * cos(lat2) * sin(dlong / 2)**2\n",
    "c = 2 * atan2(sqrt(a), sqrt(1 - a))\n",
    "\n",
    "distance = c * R\n",
    "\n",
    "print(\"The distance between these two points is\", distance, \"km.\")\n"
   ]
  },
  {
   "cell_type": "code",
   "execution_count": 104,
   "id": "aa49e4d3-1c95-48bf-bced-bab4bcaf06b0",
   "metadata": {},
   "outputs": [],
   "source": [
    "#Pandas and NumPy"
   ]
  },
  {
   "cell_type": "code",
   "execution_count": 6,
   "id": "600700ce-8bd5-4301-8aad-3ce7699db90a",
   "metadata": {},
   "outputs": [
    {
     "data": {
      "text/html": [
       "<div>\n",
       "<style scoped>\n",
       "    .dataframe tbody tr th:only-of-type {\n",
       "        vertical-align: middle;\n",
       "    }\n",
       "\n",
       "    .dataframe tbody tr th {\n",
       "        vertical-align: top;\n",
       "    }\n",
       "\n",
       "    .dataframe thead th {\n",
       "        text-align: right;\n",
       "    }\n",
       "</style>\n",
       "<table border=\"1\" class=\"dataframe\">\n",
       "  <thead>\n",
       "    <tr style=\"text-align: right;\">\n",
       "      <th></th>\n",
       "      <th>DBH</th>\n",
       "      <th>Condition</th>\n",
       "      <th>TreeHeight</th>\n",
       "      <th>CrownWidth</th>\n",
       "      <th>Family</th>\n",
       "      <th>Genus</th>\n",
       "      <th>Common_name</th>\n",
       "      <th>Genus_spec</th>\n",
       "      <th>Native</th>\n",
       "    </tr>\n",
       "  </thead>\n",
       "  <tbody>\n",
       "    <tr>\n",
       "      <th>0</th>\n",
       "      <td>37.4</td>\n",
       "      <td>Fair</td>\n",
       "      <td>105.0</td>\n",
       "      <td>44.0</td>\n",
       "      <td>Pinaceae</td>\n",
       "      <td>Pseudotsuga</td>\n",
       "      <td>Douglas-fir</td>\n",
       "      <td>Pseudotsuga menziesii</td>\n",
       "      <td>Yes</td>\n",
       "    </tr>\n",
       "    <tr>\n",
       "      <th>1</th>\n",
       "      <td>32.5</td>\n",
       "      <td>Fair</td>\n",
       "      <td>94.0</td>\n",
       "      <td>49.0</td>\n",
       "      <td>Pinaceae</td>\n",
       "      <td>Pseudotsuga</td>\n",
       "      <td>Douglas-fir</td>\n",
       "      <td>Pseudotsuga menziesii</td>\n",
       "      <td>Yes</td>\n",
       "    </tr>\n",
       "    <tr>\n",
       "      <th>2</th>\n",
       "      <td>9.7</td>\n",
       "      <td>Fair</td>\n",
       "      <td>23.0</td>\n",
       "      <td>28.0</td>\n",
       "      <td>Rosaceae</td>\n",
       "      <td>Crataegus</td>\n",
       "      <td>Lavalle hawthorn</td>\n",
       "      <td>Crataegus x lavalleei</td>\n",
       "      <td>No</td>\n",
       "    </tr>\n",
       "    <tr>\n",
       "      <th>3</th>\n",
       "      <td>10.3</td>\n",
       "      <td>Poor</td>\n",
       "      <td>28.0</td>\n",
       "      <td>38.0</td>\n",
       "      <td>Fagaceae</td>\n",
       "      <td>Quercus</td>\n",
       "      <td>northern red oak</td>\n",
       "      <td>Quercus rubra</td>\n",
       "      <td>No</td>\n",
       "    </tr>\n",
       "    <tr>\n",
       "      <th>4</th>\n",
       "      <td>33.2</td>\n",
       "      <td>Fair</td>\n",
       "      <td>102.0</td>\n",
       "      <td>43.0</td>\n",
       "      <td>Pinaceae</td>\n",
       "      <td>Pseudotsuga</td>\n",
       "      <td>Douglas-fir</td>\n",
       "      <td>Pseudotsuga menziesii</td>\n",
       "      <td>Yes</td>\n",
       "    </tr>\n",
       "  </tbody>\n",
       "</table>\n",
       "</div>"
      ],
      "text/plain": [
       "    DBH Condition  TreeHeight  CrownWidth    Family        Genus  \\\n",
       "0  37.4      Fair       105.0        44.0  Pinaceae  Pseudotsuga   \n",
       "1  32.5      Fair        94.0        49.0  Pinaceae  Pseudotsuga   \n",
       "2   9.7      Fair        23.0        28.0  Rosaceae    Crataegus   \n",
       "3  10.3      Poor        28.0        38.0  Fagaceae      Quercus   \n",
       "4  33.2      Fair       102.0        43.0  Pinaceae  Pseudotsuga   \n",
       "\n",
       "        Common_name             Genus_spec Native  \n",
       "0       Douglas-fir  Pseudotsuga menziesii    Yes  \n",
       "1       Douglas-fir  Pseudotsuga menziesii    Yes  \n",
       "2  Lavalle hawthorn  Crataegus x lavalleei     No  \n",
       "3  northern red oak          Quercus rubra     No  \n",
       "4       Douglas-fir  Pseudotsuga menziesii    Yes  "
      ]
     },
     "execution_count": 6,
     "metadata": {},
     "output_type": "execute_result"
    }
   ],
   "source": [
    "import numpy as np\n",
    "import pandas as pd\n",
    "\n",
    "\n",
    "#read portland tree data as port_trees\n",
    "port_trees = pd.read_csv(\"data/portland_park_trees.csv\") \n",
    "#select required columns of tree data\n",
    "\n",
    "trees = port_trees[[\"DBH\", \"Condition\", \"TreeHeight\", \"CrownWidth\", \"Family\", \"Genus\", \"Common_name\", \"Genus_spec\", \"Native\"]]\n",
    "trees.head()\n",
    "\n"
   ]
  },
  {
   "cell_type": "code",
   "execution_count": 7,
   "id": "590257c3-56b4-4772-b290-a701969ac4c7",
   "metadata": {},
   "outputs": [
    {
     "data": {
      "text/plain": [
       "5675"
      ]
     },
     "execution_count": 7,
     "metadata": {},
     "output_type": "execute_result"
    }
   ],
   "source": [
    "#Question 1  \n",
    "QAgenus = ['Quercus', 'Acer']    #a list denoting the required genera\n",
    "trees['Genus'].isin(QAgenus).sum()      #query all values that appear in the list QAgenus\n",
    "\n",
    "\n",
    "#there are 5675 trees with over 50 inch diameter at breast height"
   ]
  },
  {
   "cell_type": "markdown",
   "id": "e4920623-b8ce-44e9-a6e8-981a184f8ced",
   "metadata": {},
   "source": [
    "Q1) There are 5675 trees with over 50 inch diameter at breast height"
   ]
  },
  {
   "cell_type": "code",
   "execution_count": 35,
   "id": "76f36da0-cd1d-43e8-a40a-4dac741326e8",
   "metadata": {},
   "outputs": [
    {
     "name": "stdout",
     "output_type": "stream",
     "text": [
      "124\n"
     ]
    }
   ],
   "source": [
    "#Question 2\n",
    "treeGenus = trees.query(\"Genus in @QAgenus\")    #query all values of genus Quercus and Acer\n",
    "QAdbh = treeGenus.query('DBH >50')    #query of all items that have DBH greater than 50 and genus Quercus or Acer\n",
    "print(len(QAdbh))\n"
   ]
  },
  {
   "cell_type": "markdown",
   "id": "c0d81d0c-7614-499e-b3c5-6c011cf7380f",
   "metadata": {},
   "source": [
    "Q2: 124 trees have a DBH greater than 50in."
   ]
  },
  {
   "cell_type": "code",
   "execution_count": 37,
   "id": "9eac70a5-0afb-4681-a54f-c277498aabf3",
   "metadata": {},
   "outputs": [
    {
     "name": "stdout",
     "output_type": "stream",
     "text": [
      "Genus\n",
      "Acer        18.419085\n",
      "Fraxinus    11.033610\n",
      "Quercus     23.568238\n",
      "Name: DBH, dtype: float64\n"
     ]
    }
   ],
   "source": [
    "#Question 3\n",
    "QAgenus.append('Fraxinus')   #add Fraxinus to required genera list\n",
    "treeGenus = trees.query(\"Genus in @QAgenus\")   #update treeGenus query to include Fraxnius data\n",
    "treeMean= treeGenus.groupby(\"Genus\")['DBH'].mean()       #evaluate mean of the 3 genuses, grouped by DBH\n",
    "    \n",
    "print(treeMean)\n"
   ]
  },
  {
   "cell_type": "markdown",
   "id": "a3968125-0e9b-49ed-b6d0-4cfd18b29ad2",
   "metadata": {},
   "source": [
    "Q3: Quercus has the highest mean."
   ]
  },
  {
   "cell_type": "code",
   "execution_count": 40,
   "id": "3f460806-56b1-4d85-9fb3-9fd3434782d4",
   "metadata": {},
   "outputs": [],
   "source": [
    "#Question 4\n",
    "acer = trees.query('Genus == \"Acer\"')\n"
   ]
  }
 ],
 "metadata": {
  "kernelspec": {
   "display_name": "Python 3 (ipykernel)",
   "language": "python",
   "name": "python3"
  },
  "language_info": {
   "codemirror_mode": {
    "name": "ipython",
    "version": 3
   },
   "file_extension": ".py",
   "mimetype": "text/x-python",
   "name": "python",
   "nbconvert_exporter": "python",
   "pygments_lexer": "ipython3",
   "version": "3.10.9"
  },
  "toc-showcode": true
 },
 "nbformat": 4,
 "nbformat_minor": 5
}
